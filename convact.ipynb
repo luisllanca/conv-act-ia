{
 "cells": [
  {
   "cell_type": "code",
   "execution_count": null,
   "metadata": {},
   "outputs": [],
   "source": [
    "import torch.nn as nn\n",
    "import numpy as np\n",
    "import matplotlib.pyplot as plt\n",
    "import pandas as pd\n",
    "import sklearn\n",
    "import torch\n",
    "from torch.utils.data import random_split,DataLoader,TensorDataset\n",
    "from PIL import Image\n",
    "import torchvision\n",
    "import os"
   ]
  },
  {
   "cell_type": "markdown",
   "metadata": {},
   "source": [
    "### Actividad de CNN"
   ]
  },
  {
   "cell_type": "code",
   "execution_count": null,
   "metadata": {},
   "outputs": [],
   "source": [
    "from torchvision import transforms,datasets\n",
    "\n",
    "transform = transforms.Compose([transforms.Resize((224,224)),transforms.ToTensor()])\n",
    "path = \"pieces\"\n",
    "dataset = datasets.ImageFolder(path,transform=transform)\n",
    "train_set,val_set,test_set = random_split(dataset,[400,125,126],generator=torch.Generator().manual_seed(619))\n",
    "train_loader = DataLoader(train_set,batch_size=32,shuffle=True)\n",
    "val_loader = DataLoader(val_set,batch_size=32,shuffle=True)\n",
    "test_loader = DataLoader(test_set,batch_size=32,shuffle=True)   "
   ]
  },
  {
   "cell_type": "markdown",
   "metadata": {},
   "source": [
    "En el siguiente bloque explore la data, con el fin de responder a estas preguntas.  \n",
    "- ¿De que se trata el dataset?\n",
    "- ¿Cuales son las clases de salida?\n",
    "- ¿Cuantas imagenes hay por clase?\n",
    "- ¿Cual es el tamaño de las imagenes?\n",
    "- ¿Cuantas imagenes hay en total?\n",
    "- Grafique algunas imagenes de cada clase\n",
    "- etc."
   ]
  },
  {
   "cell_type": "markdown",
   "metadata": {},
   "source": [
    "En el siguiente bloque implemente el modelo que le permitirá clasificar las diferentes tipos de piezas en el ajedrez, justifique la arquitectura de la red."
   ]
  },
  {
   "cell_type": "code",
   "execution_count": null,
   "metadata": {},
   "outputs": [],
   "source": [
    "import torch.nn as nn"
   ]
  },
  {
   "cell_type": "markdown",
   "metadata": {},
   "source": [
    "En el siguiente bloque cree una instancia de su red neuronal convolucional definida anteriormente y defina una función de perdida y un optimizador.\t"
   ]
  },
  {
   "cell_type": "code",
   "execution_count": null,
   "metadata": {},
   "outputs": [],
   "source": []
  },
  {
   "cell_type": "markdown",
   "metadata": {},
   "source": [
    "En el siguiente bloque programe el entrenamiento de su red neuronal convolucional."
   ]
  },
  {
   "cell_type": "code",
   "execution_count": null,
   "metadata": {},
   "outputs": [],
   "source": []
  },
  {
   "cell_type": "markdown",
   "metadata": {},
   "source": [
    "En el siguiente bloque muestre el gráfico de entrenamiento y validación de su red neuronal convolucional."
   ]
  },
  {
   "cell_type": "code",
   "execution_count": null,
   "metadata": {},
   "outputs": [],
   "source": []
  },
  {
   "cell_type": "markdown",
   "metadata": {},
   "source": [
    "Muestre diferentes métricas de evaluación de su red neuronal convolucional."
   ]
  },
  {
   "cell_type": "code",
   "execution_count": null,
   "metadata": {},
   "outputs": [],
   "source": []
  },
  {
   "cell_type": "markdown",
   "metadata": {},
   "source": [
    "Concluya sobre las métricas obtenidas y el entrenamiento de su red neuronal convolucional."
   ]
  },
  {
   "cell_type": "code",
   "execution_count": null,
   "metadata": {},
   "outputs": [],
   "source": []
  },
  {
   "cell_type": "markdown",
   "metadata": {},
   "source": [
    "En el siguiente bloque muestre las predicciones de su red neuronal convolucional y responda:\n",
    "- ¿Cree que los errores son razonables?\n",
    "- ¿Qué haría para mejorar la clasificación de las piezas de ajedrez?\n"
   ]
  },
  {
   "cell_type": "code",
   "execution_count": null,
   "metadata": {},
   "outputs": [],
   "source": []
  }
 ],
 "metadata": {
  "kernelspec": {
   "display_name": "transformer",
   "language": "python",
   "name": "python3"
  },
  "language_info": {
   "codemirror_mode": {
    "name": "ipython",
    "version": 3
   },
   "file_extension": ".py",
   "mimetype": "text/x-python",
   "name": "python",
   "nbconvert_exporter": "python",
   "pygments_lexer": "ipython3",
   "version": "3.12.4"
  }
 },
 "nbformat": 4,
 "nbformat_minor": 2
}
